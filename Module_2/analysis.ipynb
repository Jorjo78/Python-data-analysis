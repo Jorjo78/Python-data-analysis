{
 "cells": [
  {
   "cell_type": "code",
   "execution_count": 2,
   "metadata": {},
   "outputs": [
    {
     "name": "stdout",
     "output_type": "stream",
     "text": [
      "Current working directory: /Users/giorgiocavallo/Desktop/Python/coursera/IBM_data_analysis\n"
     ]
    }
   ],
   "source": [
    "import os\n",
    "\n",
    "# Set the working directory\n",
    "os.chdir('/Users/giorgiocavallo/Desktop/Python/coursera/IBM_data_analysis')\n",
    "\n",
    "# Get and print the new current working directory\n",
    "current_directory = os.getcwd()\n",
    "print(f\"Current working directory: {current_directory}\")\n",
    "\n"
   ]
  },
  {
   "cell_type": "code",
   "execution_count": 3,
   "metadata": {},
   "outputs": [
    {
     "name": "stdout",
     "output_type": "stream",
     "text": [
      "   symboling  normalized-losses         make fuel-type aspiration  \\\n",
      "0          3                NaN  alfa-romero       gas        std   \n",
      "1          3                NaN  alfa-romero       gas        std   \n",
      "2          1                NaN  alfa-romero       gas        std   \n",
      "3          2              164.0         audi       gas        std   \n",
      "4          2              164.0         audi       gas        std   \n",
      "\n",
      "  num-of-doors   body-style drive-wheels engine-location  wheel-base  ...  \\\n",
      "0          two  convertible          rwd           front        88.6  ...   \n",
      "1          two  convertible          rwd           front        88.6  ...   \n",
      "2          two    hatchback          rwd           front        94.5  ...   \n",
      "3         four        sedan          fwd           front        99.8  ...   \n",
      "4         four        sedan          4wd           front        99.4  ...   \n",
      "\n",
      "   engine-size  fuel-system  bore  stroke compression-ratio horsepower  \\\n",
      "0          130         mpfi  3.47    2.68               9.0      111.0   \n",
      "1          130         mpfi  3.47    2.68               9.0      111.0   \n",
      "2          152         mpfi  2.68    3.47               9.0      154.0   \n",
      "3          109         mpfi  3.19    3.40              10.0      102.0   \n",
      "4          136         mpfi  3.19    3.40               8.0      115.0   \n",
      "\n",
      "   peak-rpm city-mpg  highway-mpg    price  \n",
      "0    5000.0       21           27  13495.0  \n",
      "1    5000.0       21           27  16500.0  \n",
      "2    5000.0       19           26  16500.0  \n",
      "3    5500.0       24           30  13950.0  \n",
      "4    5500.0       18           22  17450.0  \n",
      "\n",
      "[5 rows x 26 columns]\n"
     ]
    }
   ],
   "source": [
    "## read the csv data\n",
    "import pandas as pd\n",
    "df = pd.read_csv('automobile.csv')\n",
    "print(df.head())"
   ]
  },
  {
   "cell_type": "code",
   "execution_count": 4,
   "metadata": {},
   "outputs": [],
   "source": [
    "## exporting panda data frame to csv\n",
    "df.to_csv('nuovo.csv', index=False, sep=';')"
   ]
  },
  {
   "cell_type": "code",
   "execution_count": 5,
   "metadata": {},
   "outputs": [
    {
     "name": "stdout",
     "output_type": "stream",
     "text": [
      "symboling              int64\n",
      "normalized-losses    float64\n",
      "make                  object\n",
      "fuel-type             object\n",
      "aspiration            object\n",
      "num-of-doors          object\n",
      "body-style            object\n",
      "drive-wheels          object\n",
      "engine-location       object\n",
      "wheel-base           float64\n",
      "length               float64\n",
      "width                float64\n",
      "height               float64\n",
      "curb-weight            int64\n",
      "engine-type           object\n",
      "num-of-cylinders      object\n",
      "engine-size            int64\n",
      "fuel-system           object\n",
      "bore                 float64\n",
      "stroke               float64\n",
      "compression-ratio    float64\n",
      "horsepower           float64\n",
      "peak-rpm             float64\n",
      "city-mpg               int64\n",
      "highway-mpg            int64\n",
      "price                float64\n",
      "dtype: object\n"
     ]
    }
   ],
   "source": [
    "## checking datatypes\n",
    "print(df.dtypes)"
   ]
  },
  {
   "cell_type": "code",
   "execution_count": 6,
   "metadata": {},
   "outputs": [
    {
     "name": "stdout",
     "output_type": "stream",
     "text": [
      "         symboling  normalized-losses    make fuel-type aspiration  \\\n",
      "count   205.000000         164.000000     205       205        205   \n",
      "unique         NaN                NaN      22         2          2   \n",
      "top            NaN                NaN  toyota       gas        std   \n",
      "freq           NaN                NaN      32       185        168   \n",
      "mean      0.834146         122.000000     NaN       NaN        NaN   \n",
      "std       1.245307          35.442168     NaN       NaN        NaN   \n",
      "min      -2.000000          65.000000     NaN       NaN        NaN   \n",
      "25%       0.000000          94.000000     NaN       NaN        NaN   \n",
      "50%       1.000000         115.000000     NaN       NaN        NaN   \n",
      "75%       2.000000         150.000000     NaN       NaN        NaN   \n",
      "max       3.000000         256.000000     NaN       NaN        NaN   \n",
      "\n",
      "       num-of-doors body-style drive-wheels engine-location  wheel-base  ...  \\\n",
      "count           203        205          205             205  205.000000  ...   \n",
      "unique            2          5            3               2         NaN  ...   \n",
      "top            four      sedan          fwd           front         NaN  ...   \n",
      "freq            114         96          120             202         NaN  ...   \n",
      "mean            NaN        NaN          NaN             NaN   98.756585  ...   \n",
      "std             NaN        NaN          NaN             NaN    6.021776  ...   \n",
      "min             NaN        NaN          NaN             NaN   86.600000  ...   \n",
      "25%             NaN        NaN          NaN             NaN   94.500000  ...   \n",
      "50%             NaN        NaN          NaN             NaN   97.000000  ...   \n",
      "75%             NaN        NaN          NaN             NaN  102.400000  ...   \n",
      "max             NaN        NaN          NaN             NaN  120.900000  ...   \n",
      "\n",
      "        engine-size  fuel-system        bore      stroke compression-ratio  \\\n",
      "count    205.000000          205  201.000000  201.000000        205.000000   \n",
      "unique          NaN            8         NaN         NaN               NaN   \n",
      "top             NaN         mpfi         NaN         NaN               NaN   \n",
      "freq            NaN           94         NaN         NaN               NaN   \n",
      "mean     126.907317          NaN    3.329751    3.255423         10.142537   \n",
      "std       41.642693          NaN    0.273539    0.316717          3.972040   \n",
      "min       61.000000          NaN    2.540000    2.070000          7.000000   \n",
      "25%       97.000000          NaN    3.150000    3.110000          8.600000   \n",
      "50%      120.000000          NaN    3.310000    3.290000          9.000000   \n",
      "75%      141.000000          NaN    3.590000    3.410000          9.400000   \n",
      "max      326.000000          NaN    3.940000    4.170000         23.000000   \n",
      "\n",
      "        horsepower     peak-rpm    city-mpg  highway-mpg         price  \n",
      "count   203.000000   203.000000  205.000000   205.000000    201.000000  \n",
      "unique         NaN          NaN         NaN          NaN           NaN  \n",
      "top            NaN          NaN         NaN          NaN           NaN  \n",
      "freq           NaN          NaN         NaN          NaN           NaN  \n",
      "mean    104.256158  5125.369458   25.219512    30.751220  13207.129353  \n",
      "std      39.714369   479.334560    6.542142     6.886443   7947.066342  \n",
      "min      48.000000  4150.000000   13.000000    16.000000   5118.000000  \n",
      "25%      70.000000  4800.000000   19.000000    25.000000   7775.000000  \n",
      "50%      95.000000  5200.000000   24.000000    30.000000  10295.000000  \n",
      "75%     116.000000  5500.000000   30.000000    34.000000  16500.000000  \n",
      "max     288.000000  6600.000000   49.000000    54.000000  45400.000000  \n",
      "\n",
      "[11 rows x 26 columns]\n"
     ]
    }
   ],
   "source": [
    "## returns a statistcal summary of the data\n",
    "print(df.describe(include='all'))\n"
   ]
  },
  {
   "cell_type": "code",
   "execution_count": 7,
   "metadata": {
    "vscode": {
     "languageId": "markdown"
    }
   },
   "outputs": [
    {
     "name": "stdout",
     "output_type": "stream",
     "text": [
      "<class 'pandas.core.frame.DataFrame'>\n",
      "RangeIndex: 205 entries, 0 to 204\n",
      "Data columns (total 26 columns):\n",
      " #   Column             Non-Null Count  Dtype  \n",
      "---  ------             --------------  -----  \n",
      " 0   symboling          205 non-null    int64  \n",
      " 1   normalized-losses  164 non-null    float64\n",
      " 2   make               205 non-null    object \n",
      " 3   fuel-type          205 non-null    object \n",
      " 4   aspiration         205 non-null    object \n",
      " 5   num-of-doors       203 non-null    object \n",
      " 6   body-style         205 non-null    object \n",
      " 7   drive-wheels       205 non-null    object \n",
      " 8   engine-location    205 non-null    object \n",
      " 9   wheel-base         205 non-null    float64\n",
      " 10  length             205 non-null    float64\n",
      " 11  width              205 non-null    float64\n",
      " 12  height             205 non-null    float64\n",
      " 13  curb-weight        205 non-null    int64  \n",
      " 14  engine-type        205 non-null    object \n",
      " 15  num-of-cylinders   205 non-null    object \n",
      " 16  engine-size        205 non-null    int64  \n",
      " 17  fuel-system        205 non-null    object \n",
      " 18  bore               201 non-null    float64\n",
      " 19  stroke             201 non-null    float64\n",
      " 20  compression-ratio  205 non-null    float64\n",
      " 21  horsepower         203 non-null    float64\n",
      " 22  peak-rpm           203 non-null    float64\n",
      " 23  city-mpg           205 non-null    int64  \n",
      " 24  highway-mpg        205 non-null    int64  \n",
      " 25  price              201 non-null    float64\n",
      "dtypes: float64(11), int64(5), object(10)\n",
      "memory usage: 41.8+ KB\n"
     ]
    }
   ],
   "source": [
    "## another way to get info about your dataset\n",
    "df.info()\n"
   ]
  },
  {
   "cell_type": "code",
   "execution_count": 8,
   "metadata": {},
   "outputs": [
    {
     "data": {
      "text/html": [
       "<div>\n",
       "<style scoped>\n",
       "    .dataframe tbody tr th:only-of-type {\n",
       "        vertical-align: middle;\n",
       "    }\n",
       "\n",
       "    .dataframe tbody tr th {\n",
       "        vertical-align: top;\n",
       "    }\n",
       "\n",
       "    .dataframe thead th {\n",
       "        text-align: right;\n",
       "    }\n",
       "</style>\n",
       "<table border=\"1\" class=\"dataframe\">\n",
       "  <thead>\n",
       "    <tr style=\"text-align: right;\">\n",
       "      <th></th>\n",
       "      <th>symboling</th>\n",
       "    </tr>\n",
       "  </thead>\n",
       "  <tbody>\n",
       "    <tr>\n",
       "      <th>0</th>\n",
       "      <td>3</td>\n",
       "    </tr>\n",
       "    <tr>\n",
       "      <th>1</th>\n",
       "      <td>3</td>\n",
       "    </tr>\n",
       "    <tr>\n",
       "      <th>2</th>\n",
       "      <td>1</td>\n",
       "    </tr>\n",
       "    <tr>\n",
       "      <th>3</th>\n",
       "      <td>2</td>\n",
       "    </tr>\n",
       "    <tr>\n",
       "      <th>4</th>\n",
       "      <td>2</td>\n",
       "    </tr>\n",
       "    <tr>\n",
       "      <th>...</th>\n",
       "      <td>...</td>\n",
       "    </tr>\n",
       "    <tr>\n",
       "      <th>200</th>\n",
       "      <td>-1</td>\n",
       "    </tr>\n",
       "    <tr>\n",
       "      <th>201</th>\n",
       "      <td>-1</td>\n",
       "    </tr>\n",
       "    <tr>\n",
       "      <th>202</th>\n",
       "      <td>-1</td>\n",
       "    </tr>\n",
       "    <tr>\n",
       "      <th>203</th>\n",
       "      <td>-1</td>\n",
       "    </tr>\n",
       "    <tr>\n",
       "      <th>204</th>\n",
       "      <td>-1</td>\n",
       "    </tr>\n",
       "  </tbody>\n",
       "</table>\n",
       "<p>205 rows × 1 columns</p>\n",
       "</div>"
      ],
      "text/plain": [
       "     symboling\n",
       "0            3\n",
       "1            3\n",
       "2            1\n",
       "3            2\n",
       "4            2\n",
       "..         ...\n",
       "200         -1\n",
       "201         -1\n",
       "202         -1\n",
       "203         -1\n",
       "204         -1\n",
       "\n",
       "[205 rows x 1 columns]"
      ]
     },
     "execution_count": 8,
     "metadata": {},
     "output_type": "execute_result"
    }
   ],
   "source": [
    "## Simple dataframe operations\n",
    "df[['symboling']]\n"
   ]
  },
  {
   "cell_type": "code",
   "execution_count": 9,
   "metadata": {},
   "outputs": [
    {
     "data": {
      "text/plain": [
       "symboling              int64\n",
       "normalized-losses    float64\n",
       "make                  object\n",
       "fuel-type             object\n",
       "aspiration            object\n",
       "num-of-doors          object\n",
       "body-style            object\n",
       "drive-wheels          object\n",
       "engine-location       object\n",
       "wheel-base           float64\n",
       "length               float64\n",
       "width                float64\n",
       "height               float64\n",
       "curb-weight            int64\n",
       "engine-type           object\n",
       "num-of-cylinders      object\n",
       "engine-size            int64\n",
       "fuel-system           object\n",
       "bore                 float64\n",
       "stroke               float64\n",
       "compression-ratio    float64\n",
       "horsepower           float64\n",
       "peak-rpm             float64\n",
       "city-mpg               int64\n",
       "highway-mpg            int64\n",
       "price                float64\n",
       "dtype: object"
      ]
     },
     "execution_count": 9,
     "metadata": {},
     "output_type": "execute_result"
    }
   ],
   "source": [
    "##check data types of the columns\n",
    "df.dtypes"
   ]
  },
  {
   "cell_type": "code",
   "execution_count": 10,
   "metadata": {},
   "outputs": [
    {
     "name": "stdout",
     "output_type": "stream",
     "text": [
      "Index(['symboling', 'normalized-losses', 'make', 'fuel-type', 'aspiration',\n",
      "       'num-of-doors', 'body-style', 'drive-wheels', 'engine-location',\n",
      "       'wheel-base', 'length', 'width', 'height', 'curb-weight', 'engine-type',\n",
      "       'num-of-cylinders', 'engine-size', 'fuel-system', 'bore', 'stroke',\n",
      "       'compression-ratio', 'horsepower', 'peak-rpm', 'city-mpg',\n",
      "       'highway-mpg', 'price'],\n",
      "      dtype='object')\n"
     ]
    }
   ],
   "source": [
    "## check columns names\n",
    "print(df.columns)\n"
   ]
  },
  {
   "cell_type": "code",
   "execution_count": 13,
   "metadata": {},
   "outputs": [
    {
     "name": "stdout",
     "output_type": "stream",
     "text": [
      "     symboling  normalized-losses         make fuel-type aspiration  \\\n",
      "0            3                NaN  alfa-romero       gas        std   \n",
      "1            3                NaN  alfa-romero       gas        std   \n",
      "2            1                NaN  alfa-romero       gas        std   \n",
      "3            2              164.0         audi       gas        std   \n",
      "4            2              164.0         audi       gas        std   \n",
      "..         ...                ...          ...       ...        ...   \n",
      "200         -1               95.0        volvo       gas        std   \n",
      "201         -1               95.0        volvo       gas      turbo   \n",
      "202         -1               95.0        volvo       gas        std   \n",
      "203         -1               95.0        volvo    diesel      turbo   \n",
      "204         -1               95.0        volvo       gas      turbo   \n",
      "\n",
      "    num-of-doors   body-style drive-wheels engine-location  wheel-base  ...  \\\n",
      "0            two  convertible          rwd           front        88.6  ...   \n",
      "1            two  convertible          rwd           front        88.6  ...   \n",
      "2            two    hatchback          rwd           front        94.5  ...   \n",
      "3           four        sedan          fwd           front        99.8  ...   \n",
      "4           four        sedan          4wd           front        99.4  ...   \n",
      "..           ...          ...          ...             ...         ...  ...   \n",
      "200         four        sedan          rwd           front       109.1  ...   \n",
      "201         four        sedan          rwd           front       109.1  ...   \n",
      "202         four        sedan          rwd           front       109.1  ...   \n",
      "203         four        sedan          rwd           front       109.1  ...   \n",
      "204         four        sedan          rwd           front       109.1  ...   \n",
      "\n",
      "     engine-size  fuel-system  bore  stroke compression-ratio horsepower  \\\n",
      "0            130         mpfi  3.47    2.68               9.0      111.0   \n",
      "1            130         mpfi  3.47    2.68               9.0      111.0   \n",
      "2            152         mpfi  2.68    3.47               9.0      154.0   \n",
      "3            109         mpfi  3.19    3.40              10.0      102.0   \n",
      "4            136         mpfi  3.19    3.40               8.0      115.0   \n",
      "..           ...          ...   ...     ...               ...        ...   \n",
      "200          141         mpfi  3.78    3.15               9.5      114.0   \n",
      "201          141         mpfi  3.78    3.15               8.7      160.0   \n",
      "202          173         mpfi  3.58    2.87               8.8      134.0   \n",
      "203          145          idi  3.01    3.40              23.0      106.0   \n",
      "204          141         mpfi  3.78    3.15               9.5      114.0   \n",
      "\n",
      "     peak-rpm city-mpg  highway-mpg    price  \n",
      "0      5000.0       21           27  13495.0  \n",
      "1      5000.0       21           27  16500.0  \n",
      "2      5000.0       19           26  16500.0  \n",
      "3      5500.0       24           30  13950.0  \n",
      "4      5500.0       18           22  17450.0  \n",
      "..        ...      ...          ...      ...  \n",
      "200    5400.0       23           28  16845.0  \n",
      "201    5300.0       19           25  19045.0  \n",
      "202    5500.0       18           23  21485.0  \n",
      "203    4800.0       26           27  22470.0  \n",
      "204    5400.0       19           25  22625.0  \n",
      "\n",
      "[205 rows x 26 columns]\n"
     ]
    },
    {
     "data": {
      "text/plain": [
       "0      3\n",
       "1      3\n",
       "2      1\n",
       "3      2\n",
       "4      2\n",
       "      ..\n",
       "200   -1\n",
       "201   -1\n",
       "202   -1\n",
       "203   -1\n",
       "204   -1\n",
       "Name: symboling, Length: 205, dtype: int64"
      ]
     },
     "execution_count": 13,
     "metadata": {},
     "output_type": "execute_result"
    }
   ],
   "source": [
    "## methods of normalizing data\n",
    "## simple feature scaling\n",
    "print(df)\n"
   ]
  },
  {
   "cell_type": "code",
   "execution_count": null,
   "metadata": {},
   "outputs": [],
   "source": [
    "## Importing required libraries\n",
    "import numpy as np\n",
    "import pandas as pd\n",
    "import matplotlib.pyplot as plt\n",
    "%matplotlib inline"
   ]
  },
  {
   "cell_type": "code",
   "execution_count": null,
   "metadata": {},
   "outputs": [],
   "source": [
    "from pyodide.http import pyfetch\n",
    "\n",
    "async def download(url, filename):\n",
    "    response = await pyfetch(url)\n",
    "    if response.status == 200:\n",
    "        with open(filename, \"wb\") as f:\n",
    "            f.write(await response.bytes())"
   ]
  }
 ],
 "metadata": {
  "kernelspec": {
   "display_name": "Python 3",
   "language": "python",
   "name": "python3"
  },
  "language_info": {
   "codemirror_mode": {
    "name": "ipython",
    "version": 3
   },
   "file_extension": ".py",
   "mimetype": "text/x-python",
   "name": "python",
   "nbconvert_exporter": "python",
   "pygments_lexer": "ipython3",
   "version": "3.11.3"
  }
 },
 "nbformat": 4,
 "nbformat_minor": 2
}
